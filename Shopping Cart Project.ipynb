{
 "cells": [
  {
   "cell_type": "code",
   "execution_count": null,
   "id": "fef52b46",
   "metadata": {},
   "outputs": [],
   "source": [
    "cart = {}\n",
    "price = .99\n",
    "while True:\n",
    "    ask = input(\"Would you like to add/show/delete/clear from your shopping cart? If ready for checkout please type quit. \")\n",
    "    clear_output()\n",
    "    if ask == \"add\" :\n",
    "        add = input(\"What would you like to add today! \")\n",
    "        clear_output()\n",
    "        cart[add] = price\n",
    "    elif ask == 'delete':\n",
    "        dele =  input(\"Which item would you like to delete? \")\n",
    "        clear_output()\n",
    "        cart[dele] = price\n",
    "        del cart[dele]\n",
    "    elif ask == 'show':\n",
    "        show = input(\"Would you like to see your cart? \")\n",
    "        if show == 'yes':\n",
    "            clear_output()\n",
    "            print(cart)\n",
    "    elif ask == 'clear':\n",
    "        clear = input(\"Are you sure you want to clear your cart :( \")\n",
    "        if clear == 'yes':\n",
    "            clear_output()\n",
    "            dict.clear(cart)\n",
    "    elif ask == 'quit':\n",
    "        break \n",
    "        \n",
    "total = cart.values()\n",
    "subtotal = sum(total)\n",
    "         \n",
    "print(cart)\n",
    "print(f'Your total is', str(subtotal),\"!\")"
   ]
  }
 ],
 "metadata": {
  "kernelspec": {
   "display_name": "Python 3 (ipykernel)",
   "language": "python",
   "name": "python3"
  },
  "language_info": {
   "codemirror_mode": {
    "name": "ipython",
    "version": 3
   },
   "file_extension": ".py",
   "mimetype": "text/x-python",
   "name": "python",
   "nbconvert_exporter": "python",
   "pygments_lexer": "ipython3",
   "version": "3.9.7"
  }
 },
 "nbformat": 4,
 "nbformat_minor": 5
}
